{
  "cells": [
    {
      "cell_type": "markdown",
      "metadata": {
        "id": "jJCpbE5u49Pk"
      },
      "source": [
        "![openclassrooms](https://s3.eu-west-1.amazonaws.com/course.oc-static.com/courses/6204541/1+HnqdJ-5ofxiPP9HIxdNdpw.jpeg)\n",
        "\n",
        "# Learn Python Basics for Data Analysis\n",
        "\n",
        "## Declare a Variable\n",
        "\n",
        "1. Run the following code to print the value of our savings\n",
        "2. Modify the line `savings = savings + 500` below the `# TO DO` comment, using the simplified operator `+=`\n",
        "3. Run the code again to see the result of the calculation\n"
      ]
    },
    {
      "cell_type": "code",
      "execution_count": null,
      "metadata": {
        "id": "29nVfha549Pp"
      },
      "outputs": [],
      "source": [
        "account = 200\n",
        "savings = 3000\n",
        "    \n",
        "# TO DO: modify the following line with the simplified operator +=\n",
        "savings = savings + 500\n",
        "\n",
        "print(\"Your savings are: \", savings)"
      ]
    },
    {
      "cell_type": "code",
      "execution_count": null,
      "metadata": {
        "id": "jU_Y7fLw49Pr"
      },
      "outputs": [],
      "source": []
    }
  ],
  "metadata": {
    "colab": {
      "name": "P2C1 exo2.ipynb",
      "provenance": []
    },
    "kernelspec": {
      "display_name": "Python 3.9.7 ('base')",
      "language": "python",
      "name": "python3"
    },
    "language_info": {
      "codemirror_mode": {
        "name": "ipython",
        "version": 3
      },
      "file_extension": ".py",
      "mimetype": "text/x-python",
      "name": "python",
      "nbconvert_exporter": "python",
      "pygments_lexer": "ipython3",
      "version": "3.9.7"
    },
    "vscode": {
      "interpreter": {
        "hash": "0d5b2adc70bf0954b7415f3bc8543415bd6d361c5e0c2c03226caf4972d8a62d"
      }
    }
  },
  "nbformat": 4,
  "nbformat_minor": 0
}

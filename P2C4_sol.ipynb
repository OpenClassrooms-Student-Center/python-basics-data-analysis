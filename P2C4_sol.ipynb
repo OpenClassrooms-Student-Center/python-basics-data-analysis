{
  "cells": [
    {
      "cell_type": "markdown",
      "metadata": {
        "id": "wpZvaq8yhMyE"
      },
      "source": [
        "![openclassrooms](https://s3.eu-west-1.amazonaws.com/course.oc-static.com/courses/6204541/1+HnqdJ-5ofxiPP9HIxdNdpw.jpeg)\n",
        "\n",
        "# Learn Python Basics for Data Analysis\n",
        "\n",
        "## Object-oriented Programming\n",
        "\n",
        "<br><br>\n",
        "\n",
        "**String Methods**\n",
        "\n",
        "Let the variable `mySentence` be the following:\n"
      ]
    },
    {
      "cell_type": "code",
      "execution_count": 1,
      "metadata": {
        "id": "szEnAV5AhMyG"
      },
      "outputs": [],
      "source": [
        "mySentence = 'I AM EXCITED!!'"
      ]
    },
    {
      "cell_type": "markdown",
      "metadata": {
        "id": "IKVbpLx1hMyH"
      },
      "source": [
        "Use a string method to transform the variable `mySentence` to lowercase:"
      ]
    },
    {
      "cell_type": "code",
      "execution_count": 2,
      "metadata": {
        "id": "me6EiQUvhMyH",
        "outputId": "07bc089d-85f7-4973-8ed8-230206c413fe"
      },
      "outputs": [
        {
          "name": "stdout",
          "output_type": "stream",
          "text": [
            "i am excited!!\n"
          ]
        }
      ],
      "source": [
        "mySentence = mySentence.lower()\n",
        "print(mySentence)"
      ]
    },
    {
      "cell_type": "markdown",
      "metadata": {
        "id": "ApILZnK7hMyO"
      },
      "source": [
        "Replace the **...** with an expression that uses the `mySentence` variable to print: `I am calm!!`"
      ]
    },
    {
      "cell_type": "code",
      "execution_count": 4,
      "metadata": {
        "id": "orlKWBzzhMyO",
        "outputId": "b356737b-ab84-4a4e-9ef4-66915550b142"
      },
      "outputs": [
        {
          "name": "stdout",
          "output_type": "stream",
          "text": [
            "i am calm!!\n"
          ]
        }
      ],
      "source": [
        "print(mySentence.replace(\"excited\", \"calm\"))"
      ]
    }
  ],
  "metadata": {
    "colab": {
      "name": "P2C4 sol.ipynb",
      "provenance": []
    },
    "kernelspec": {
      "display_name": "Python 3.9.7 ('base')",
      "language": "python",
      "name": "python3"
    },
    "language_info": {
      "codemirror_mode": {
        "name": "ipython",
        "version": 3
      },
      "file_extension": ".py",
      "mimetype": "text/x-python",
      "name": "python",
      "nbconvert_exporter": "python",
      "pygments_lexer": "ipython3",
      "version": "3.9.7"
    },
    "vscode": {
      "interpreter": {
        "hash": "0d5b2adc70bf0954b7415f3bc8543415bd6d361c5e0c2c03226caf4972d8a62d"
      }
    }
  },
  "nbformat": 4,
  "nbformat_minor": 0
}

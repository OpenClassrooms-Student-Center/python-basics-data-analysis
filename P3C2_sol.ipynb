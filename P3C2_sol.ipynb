{
  "cells": [
    {
      "cell_type": "markdown",
      "metadata": {
        "id": "nrxTm2TtaAIX"
      },
      "source": [
        "![openclassrooms](https://s3.eu-west-1.amazonaws.com/course.oc-static.com/courses/6204541/1+HnqdJ-5ofxiPP9HIxdNdpw.jpeg)\n",
        "\n",
        "# Learn Python Basics for Data Analysis\n",
        "\n",
        "## Control Your Code with Conditional Structures\n",
        "\n",
        "<br><br>\n",
        "\n",
        "**Manage a Chain of Conditions**\n",
        "\n",
        "Run the following code:"
      ]
    },
    {
      "cell_type": "code",
      "execution_count": 1,
      "metadata": {
        "id": "ct7EU6ZtaAIZ",
        "outputId": "95c002fc-3ebe-4f70-e79a-1e4d8366d36c"
      },
      "outputs": [
        {
          "name": "stdout",
          "output_type": "stream",
          "text": [
            "c is between a and b\n"
          ]
        }
      ],
      "source": [
        "a = 5\n",
        "b = 10\n",
        "c = 7\n",
        "\n",
        "if c < a :\n",
        "    print(\"c is smaller than a\")\n",
        "    \n",
        "if c > b :\n",
        "    print(\"c is greater than b\")\n",
        "    \n",
        "if c > a and c < b:\n",
        "    print(\"c is between a and b\")\n",
        "\n"
      ]
    },
    {
      "cell_type": "markdown",
      "metadata": {
        "id": "IPJWaPSOaAIb"
      },
      "source": [
        "Now take the code above, replacing the three instances of `if` with a more suitable `if` / `elif` / `else` structure. The final display must be identical!\n"
      ]
    },
    {
      "cell_type": "code",
      "execution_count": 2,
      "metadata": {
        "id": "eREaBqNGaAIb",
        "outputId": "36bb3155-74dd-4c0b-a86f-000a4f1d38b2"
      },
      "outputs": [
        {
          "name": "stdout",
          "output_type": "stream",
          "text": [
            "c is between a and b\n"
          ]
        }
      ],
      "source": [
        "a = 5\n",
        "b = 10\n",
        "c = 7\n",
        "if c < a:\n",
        "    print(\"c is smaller than a\")\n",
        "elif c > b:\n",
        "    print(\"c is greater than b\")\n",
        "else:\n",
        "    print(\"c is between a and b\")\n"
      ]
    }
  ],
  "metadata": {
    "colab": {
      "name": "P3C2 sol.ipynb",
      "provenance": []
    },
    "kernelspec": {
      "display_name": "Python 3.9.7 ('base')",
      "language": "python",
      "name": "python3"
    },
    "language_info": {
      "codemirror_mode": {
        "name": "ipython",
        "version": 3
      },
      "file_extension": ".py",
      "mimetype": "text/x-python",
      "name": "python",
      "nbconvert_exporter": "python",
      "pygments_lexer": "ipython3",
      "version": "3.9.7"
    },
    "vscode": {
      "interpreter": {
        "hash": "0d5b2adc70bf0954b7415f3bc8543415bd6d361c5e0c2c03226caf4972d8a62d"
      }
    }
  },
  "nbformat": 4,
  "nbformat_minor": 0
}

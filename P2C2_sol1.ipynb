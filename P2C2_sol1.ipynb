{
  "cells": [
    {
      "cell_type": "markdown",
      "metadata": {
        "id": "duDVL86zep5c"
      },
      "source": [
        "![openclassrooms](https://s3.eu-west-1.amazonaws.com/course.oc-static.com/courses/6204541/1+HnqdJ-5ofxiPP9HIxdNdpw.jpeg)\n",
        "\n",
        "# Learn Python Basics for Data Analysis\n",
        "\n",
        "## Handle Variable Types\n",
        "\n",
        "Let's look again at the interest rate problem from the previous chapter:"
      ]
    },
    {
      "cell_type": "code",
      "execution_count": 1,
      "metadata": {
        "id": "VXZ4KagIep5f",
        "outputId": "a0e7de46-76bf-442e-8d2d-46e615ca4a78"
      },
      "outputs": [
        {
          "name": "stdout",
          "output_type": "stream",
          "text": [
            "75.0\n"
          ]
        }
      ],
      "source": [
        "savingsAccount = 10000\n",
        "rate = 0.75\n",
        "\n",
        "interest = savingsAccount * (rate/100)\n",
        "\n",
        "print(interest)"
      ]
    },
    {
      "cell_type": "markdown",
      "metadata": {
        "id": "4yUKpfhKep5g"
      },
      "source": [
        "If you look closely, the `interest` variable is currently a `float` type variable. Below, write a line to transform it into an integer:"
      ]
    },
    {
      "cell_type": "code",
      "execution_count": 2,
      "metadata": {
        "id": "e8nGc1Teep5g",
        "outputId": "2cc8f455-bd03-4d42-b7a0-d56ba8e49c5e"
      },
      "outputs": [
        {
          "name": "stdout",
          "output_type": "stream",
          "text": [
            "75\n"
          ]
        }
      ],
      "source": [
        "interest = int(interest)\n",
        "\n",
        "print(interest)"
      ]
    },
    {
      "cell_type": "markdown",
      "metadata": {
        "id": "s1ROjubFep5h"
      },
      "source": [
        "`interest` is now an integer!"
      ]
    },
    {
      "cell_type": "code",
      "execution_count": null,
      "metadata": {
        "id": "cuobInFNep5h"
      },
      "outputs": [],
      "source": []
    }
  ],
  "metadata": {
    "colab": {
      "name": "P2C2 sol1.ipynb",
      "provenance": []
    },
    "kernelspec": {
      "display_name": "Python 3.9.7 ('base')",
      "language": "python",
      "name": "python3"
    },
    "language_info": {
      "codemirror_mode": {
        "name": "ipython",
        "version": 3
      },
      "file_extension": ".py",
      "mimetype": "text/x-python",
      "name": "python",
      "nbconvert_exporter": "python",
      "pygments_lexer": "ipython3",
      "version": "3.9.7"
    },
    "vscode": {
      "interpreter": {
        "hash": "0d5b2adc70bf0954b7415f3bc8543415bd6d361c5e0c2c03226caf4972d8a62d"
      }
    }
  },
  "nbformat": 4,
  "nbformat_minor": 0
}

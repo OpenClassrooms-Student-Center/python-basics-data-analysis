{
  "cells": [
    {
      "cell_type": "markdown",
      "metadata": {
        "id": "sqIeAB0bFeXl"
      },
      "source": [
        "![openclassrooms](https://s3.eu-west-1.amazonaws.com/course.oc-static.com/courses/6204541/1+HnqdJ-5ofxiPP9HIxdNdpw.jpeg)\n",
        "\n",
        "# Learn Python Basics for Data Analysis\n",
        "\n",
        "## Declare a Variable\n",
        "\n",
        "Run the following case that declares the variables:\n",
        "- `savingsAccount` corresponding to the amount in the savings account\n",
        "- `rate` the interest rate for the year in question"
      ]
    },
    {
      "cell_type": "code",
      "execution_count": null,
      "metadata": {
        "id": "M6nSpOtbFeXq"
      },
      "outputs": [],
      "source": [
        "savingsAccount = 10000\n",
        "rate = 0.75"
      ]
    },
    {
      "cell_type": "markdown",
      "metadata": {
        "id": "dO_HLjf4FeXr"
      },
      "source": [
        "Create a variable `interest`, which is the amount in the savings account multiplied by the interest rate (which itself must be divided by 100, because rates are expressed as a percentage):"
      ]
    },
    {
      "cell_type": "code",
      "execution_count": null,
      "metadata": {
        "id": "6v5AzvcTFeXr"
      },
      "outputs": [],
      "source": [
        "interest = "
      ]
    },
    {
      "cell_type": "markdown",
      "metadata": {
        "id": "CzpoGffjFeXs"
      },
      "source": [
        "Now run the following case:"
      ]
    },
    {
      "cell_type": "code",
      "execution_count": null,
      "metadata": {
        "id": "o1QPO9p_FeXs"
      },
      "outputs": [],
      "source": [
        "print(\"Your account balance was\", compteEpargne, \"€\\nYou earned\", interest, \"€ this year\")"
      ]
    }
  ],
  "metadata": {
    "kernelspec": {
      "display_name": "Python 3",
      "language": "python",
      "name": "python3"
    },
    "language_info": {
      "codemirror_mode": {
        "name": "ipython",
        "version": 3
      },
      "file_extension": ".py",
      "mimetype": "text/x-python",
      "name": "python",
      "nbconvert_exporter": "python",
      "pygments_lexer": "ipython3",
      "version": "3.8.5"
    },
    "colab": {
      "name": "P2C1 ex1.ipynb",
      "provenance": []
    }
  },
  "nbformat": 4,
  "nbformat_minor": 0
}
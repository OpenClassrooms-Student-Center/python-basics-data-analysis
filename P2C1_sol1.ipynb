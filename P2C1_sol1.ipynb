{
  "cells": [
    {
      "cell_type": "markdown",
      "metadata": {
        "id": "swgCTso90u2W"
      },
      "source": [
        "![openclassrooms](https://s3.eu-west-1.amazonaws.com/course.oc-static.com/courses/6204541/1+HnqdJ-5ofxiPP9HIxdNdpw.jpeg)\n",
        "\n",
        "# Learn Python Basics for Data Analysis\n",
        "\n",
        "## Declare a Variable\n",
        "\n",
        "Run the following case that declares the variables:\n",
        "- `savingsAccount` corresponding to the amount in the savings account\n",
        "- `rate` the interest rate for the year in question\n"
      ]
    },
    {
      "cell_type": "code",
      "execution_count": 2,
      "metadata": {
        "id": "MBfub-0H0u2b"
      },
      "outputs": [],
      "source": [
        "savingsAccount = 10000\n",
        "rate = 0.75"
      ]
    },
    {
      "cell_type": "markdown",
      "metadata": {
        "id": "m0QlFV8l0u2c"
      },
      "source": [
        "Create a variable `interest`, which is the amount in the savings account multiplied by the interest rate (which itself must be divided by 100, because rates are expressed as a percentage):\n"
      ]
    },
    {
      "cell_type": "code",
      "execution_count": 3,
      "metadata": {
        "id": "_CvW_6XP0u2c"
      },
      "outputs": [],
      "source": [
        "interest = savingsAccount * (rate/100)"
      ]
    },
    {
      "cell_type": "markdown",
      "metadata": {
        "id": "n4LdjFS60u2d"
      },
      "source": [
        "Now run the following case:"
      ]
    },
    {
      "cell_type": "code",
      "execution_count": 4,
      "metadata": {
        "id": "JNpcW9mA0u2d",
        "outputId": "b12c05e6-dc77-47bc-b7d2-979c6897edba",
        "colab": {
          "base_uri": "https://localhost:8080/"
        }
      },
      "outputs": [
        {
          "output_type": "stream",
          "name": "stdout",
          "text": [
            "Your account balance was 10000 €\n",
            "You earned 75.0 € this year\n"
          ]
        }
      ],
      "source": [
        "print(\"Your account balance was\", savingsAccount, \"€\\nYou earned\", interest, \"€ this year\")\n"
      ]
    },
    {
      "cell_type": "code",
      "execution_count": null,
      "metadata": {
        "id": "fBFzdP-u0u2f"
      },
      "outputs": [],
      "source": [
        ""
      ]
    }
  ],
  "metadata": {
    "kernelspec": {
      "display_name": "Python 3",
      "language": "python",
      "name": "python3"
    },
    "language_info": {
      "codemirror_mode": {
        "name": "ipython",
        "version": 3
      },
      "file_extension": ".py",
      "mimetype": "text/x-python",
      "name": "python",
      "nbconvert_exporter": "python",
      "pygments_lexer": "ipython3",
      "version": "3.8.5"
    },
    "colab": {
      "name": "P2C1 corr1.ipynb",
      "provenance": []
    }
  },
  "nbformat": 4,
  "nbformat_minor": 0
}
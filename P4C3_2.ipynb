{
  "cells": [
    {
      "cell_type": "markdown",
      "metadata": {
        "id": "X9ReAKSacfE_"
      },
      "source": [
        "![openclassrooms](https://s3.eu-west-1.amazonaws.com/course.oc-static.com/courses/6204541/1+HnqdJ-5ofxiPP9HIxdNdpw.jpeg)\n",
        "\n",
        "# Learn Python Basics for Data Analysis\n",
        "\n",
        "## Quiz: Use Specialized Python Libraries\n",
        "\n",
        "<br><br>\n",
        "\n",
        "**We will now mix the two games presented in the previous question! Effectively, at each turn, we now flip a coin which is balanced! If you get tails, you play game A, otherwise you play game B. It is assumed that the player has 1000 dollars as starting capital. \n",
        "After playing 1,000,000 games, what is the status of the game, from the player's point of view?**\n",
        "\n",
        "Again, let's organize our code into two parts:\n",
        "1. First of all, the definition of the different coins that will be flipped via different functions.\n",
        "2. The test of our game on many flips.\n",
        "\n",
        "So let's define the functions:\n",
        "\n"
      ]
    },
    {
      "cell_type": "code",
      "execution_count": 2,
      "metadata": {
        "id": "xPCvKsXgcfFE"
      },
      "outputs": [],
      "source": [
        "import random\n",
        "    \n",
        "def balancedCoin():\n",
        "    if random.uniform(0,1) <= 0.5:\n",
        "        return 'tails'\n",
        "    else:\n",
        "        return 'heads'\n",
        "\n",
        "def coinGameA():\n",
        "    if random.uniform(0,1) <= 0.49:\n",
        "        return 'tails'\n",
        "    else:\n",
        "        return 'heads'\n",
        "    \n",
        "def coinGameB1():\n",
        "    if random.uniform(0,1) <= 0.09:\n",
        "        return 'tails'\n",
        "    else:\n",
        "        return 'heads'\n",
        "    \n",
        "def coinGameB2():\n",
        "    if random.random() <= 0.74:\n",
        "        return 'tails'\n",
        "    else:\n",
        "        return 'heads'"
      ]
    },
    {
      "cell_type": "markdown",
      "metadata": {
        "id": "DWTaMTh_cfFG"
      },
      "source": [
        "Mixed Game Test:"
      ]
    },
    {
      "cell_type": "code",
      "execution_count": 4,
      "metadata": {
        "id": "eMlkxK1AcfFH",
        "outputId": "42c1e2e4-3171-4672-f643-e6adb0471cb3"
      },
      "outputs": [
        {
          "name": "stdout",
          "output_type": "stream",
          "text": [
            "After 1000000 flips, we have $ 6200 of capital\n"
          ]
        }
      ],
      "source": [
        "capital = 1000\n",
        "nb_flips = 1000000\n",
        "\n",
        "for i in range(nb_flips):\n",
        "    coin_choice_game = balancedCoin()\n",
        "    \n",
        "    if coin_choice_game == 'tails':\n",
        "        coin = coinGameA() # we start on game A if the balanced coin falls on tails\n",
        "        if coin == 'tails':\n",
        "            capital += 1 # we earn one dollar if we get tails\n",
        "        else:\n",
        "            capital -= 1 # we lose $1 otherwise\n",
        "            \n",
        "    else: # we start on game B if the balanced coin falls on heads\n",
        "        if capital % 3 == 0: # we check if the capital is a multiple of 3 \n",
        "            coin = coinGameB1()\n",
        "        else:\n",
        "            coin = coinGameB2()\n",
        "\n",
        "        if coin == 'tails':\n",
        "            capital += 1 # we earn $1 if we get tails\n",
        "        else:\n",
        "            capital -= 1 # we lose $1 otherwise\n",
        "        \n",
        "\n",
        "print(\"After\", nb_flips, \"flips, we have $\", capital, \"of capital\")"
      ]
    },
    {
      "cell_type": "markdown",
      "metadata": {
        "id": "xDyaYiM2cfFI"
      },
      "source": [
        "You can run the code several times to be sure (or even increase the number of flips), but you will always end up with a final capital higher than the initial one: **the mixed game of games A and B is the winner this time**!"
      ]
    },
    {
      "cell_type": "code",
      "execution_count": null,
      "metadata": {
        "id": "ZXcs3LSicfFJ"
      },
      "outputs": [],
      "source": []
    }
  ],
  "metadata": {
    "colab": {
      "name": "P4C3_2.ipynb",
      "provenance": []
    },
    "kernelspec": {
      "display_name": "Python 3.9.7 ('base')",
      "language": "python",
      "name": "python3"
    },
    "language_info": {
      "codemirror_mode": {
        "name": "ipython",
        "version": 3
      },
      "file_extension": ".py",
      "mimetype": "text/x-python",
      "name": "python",
      "nbconvert_exporter": "python",
      "pygments_lexer": "ipython3",
      "version": "3.9.7"
    },
    "vscode": {
      "interpreter": {
        "hash": "0d5b2adc70bf0954b7415f3bc8543415bd6d361c5e0c2c03226caf4972d8a62d"
      }
    }
  },
  "nbformat": 4,
  "nbformat_minor": 0
}

{
  "cells": [
    {
      "cell_type": "markdown",
      "metadata": {
        "id": "31KJvvJwBslY"
      },
      "source": [
        "![openclassrooms](https://s3.eu-west-1.amazonaws.com/course.oc-static.com/courses/6204541/1+HnqdJ-5ofxiPP9HIxdNdpw.jpeg)\n",
        "\n",
        "# Learn Python Basics for Data Analysis\n",
        "\n",
        "## Create Arrays to Store Your Variables\n",
        "\n",
        "<br><br>\n",
        "\n",
        "**Adding Items to a List**\n",
        "\n",
        "Replace the **??** with the appropriate code to create an empty list:"
      ]
    },
    {
      "cell_type": "code",
      "execution_count": 1,
      "metadata": {
        "id": "tpPaAC47Bsla"
      },
      "outputs": [],
      "source": [
        "guests = []"
      ]
    },
    {
      "cell_type": "markdown",
      "metadata": {
        "id": "mzvDzi2kBslb"
      },
      "source": [
        "Add three guests to the list: Joey, Martin, and Mary"
      ]
    },
    {
      "cell_type": "code",
      "execution_count": 2,
      "metadata": {
        "id": "uPFwfl9VBslb"
      },
      "outputs": [],
      "source": [
        "guests.append('Joey')\n",
        "guests.append('Martin')\n",
        "guests.append('Mary')"
      ]
    },
    {
      "cell_type": "markdown",
      "metadata": {
        "id": "Um_-nx7pBslc"
      },
      "source": [
        "**Note** : we have used three lines here, but we could have done it like this:<br>\n",
        "`guests.extend(['Joey', 'Martin', 'Mary'])`<br><br>\n",
        "\n",
        "\n",
        "Print the size of the list:"
      ]
    },
    {
      "cell_type": "code",
      "execution_count": 3,
      "metadata": {
        "id": "II3WbX9QBsld",
        "outputId": "c84ffd03-852b-4259-ecd0-59f47f5fd92c"
      },
      "outputs": [
        {
          "data": {
            "text/plain": [
              "3"
            ]
          },
          "execution_count": 3,
          "metadata": {},
          "output_type": "execute_result"
        }
      ],
      "source": [
        "len(guests)"
      ]
    },
    {
      "cell_type": "markdown",
      "metadata": {
        "id": "H23azH-PBsle"
      },
      "source": [
        "Replace Martin with John in the list:"
      ]
    },
    {
      "cell_type": "code",
      "execution_count": 4,
      "metadata": {
        "id": "4KBuny1dBsle"
      },
      "outputs": [],
      "source": [
        "guests.insert(1, 'John')\n",
        "guests.remove('Martin')"
      ]
    },
    {
      "cell_type": "markdown",
      "metadata": {
        "id": "DK5g_hvQBsle"
      },
      "source": [
        "Delete Joey from the list:"
      ]
    },
    {
      "cell_type": "code",
      "execution_count": 5,
      "metadata": {
        "id": "RaK00if-Bsle"
      },
      "outputs": [],
      "source": [
        "guests.remove('Joey')"
      ]
    },
    {
      "cell_type": "markdown",
      "metadata": {
        "id": "WzdQ4OFkBslf"
      },
      "source": [
        "Print the contents of the list"
      ]
    },
    {
      "cell_type": "code",
      "execution_count": 6,
      "metadata": {
        "id": "DTyO4xDHBslf",
        "outputId": "3faf6ceb-fa9d-4e2f-8272-22d58ccab20e"
      },
      "outputs": [
        {
          "name": "stdout",
          "output_type": "stream",
          "text": [
            "John\n",
            "Mary\n"
          ]
        }
      ],
      "source": [
        "for guest in guests :\n",
        "    print(guest)"
      ]
    }
  ],
  "metadata": {
    "colab": {
      "name": "P3C1 sol2.ipynb",
      "provenance": []
    },
    "kernelspec": {
      "display_name": "Python 3.9.7 ('base')",
      "language": "python",
      "name": "python3"
    },
    "language_info": {
      "codemirror_mode": {
        "name": "ipython",
        "version": 3
      },
      "file_extension": ".py",
      "mimetype": "text/x-python",
      "name": "python",
      "nbconvert_exporter": "python",
      "pygments_lexer": "ipython3",
      "version": "3.9.7"
    },
    "vscode": {
      "interpreter": {
        "hash": "0d5b2adc70bf0954b7415f3bc8543415bd6d361c5e0c2c03226caf4972d8a62d"
      }
    }
  },
  "nbformat": 4,
  "nbformat_minor": 0
}

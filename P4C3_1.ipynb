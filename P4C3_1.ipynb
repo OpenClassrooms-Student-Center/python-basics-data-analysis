{
  "cells": [
    {
      "cell_type": "markdown",
      "metadata": {
        "id": "B3GNhz2OX6lV"
      },
      "source": [
        "![openclassrooms](https://s3.eu-west-1.amazonaws.com/course.oc-static.com/courses/6204541/1+HnqdJ-5ofxiPP9HIxdNdpw.jpeg)\n",
        "\n",
        "# Learn Python Basics for Data Analysis\n",
        "\n",
        "## Quiz: Use Specialized Python Libraries\n",
        "\n",
        "<br><br>\n",
        "\n",
        "**Let's consider two games of chance :**\n",
        "- First, a game that we will call **A**, which is a simple coin flip with a biased coin (tails with a probability of p=0.49). The player bets one dollar and flips the coin: if they get tails, they win one dollar and recoup their bet, otherwise they lose their bet.\n",
        "- Then, a game that we will call **B**, which is a game with two biased coins. The first coin gives tails with probability p1 = 0.09 and the second coin gives tails with probability p2 = 0.74. The player can only bet one dollar at a time! However, at each flip, we look at the player's total amount of money to determine which coin to flip: if the amount is a multiple of three, we flip the first coin, otherwise we flip the second coin. As in game A, the player recoups their bet plus an extra dollar if the chosen coin lands on tails, otherwise they lose their bet.\n",
        "\n",
        "Implement these two games of chance with Python, using the libraries seen earlier. A game is considered won when a player is finishes with more money than they started with after playing a large number (e.g., several hundred) of rounds.\n",
        "\n",
        "Let's organize our code into two parts:\n",
        "- First of all, the definition of the different coins that will be flipped via different functions.\n",
        "- The test of our games on many flips.\n",
        "\n",
        "So let's define the functions:\n"
      ]
    },
    {
      "cell_type": "code",
      "execution_count": 12,
      "metadata": {
        "id": "Xx1sf0FxX6la"
      },
      "outputs": [],
      "source": [
        "import random\n",
        "    \n",
        "def coinGameA():\n",
        "    if random.uniform(0,1) <= 0.49:\n",
        "        return 'tails'\n",
        "    else:\n",
        "        return 'heads'\n",
        "    \n",
        "def coinGameB1():\n",
        "    if random.uniform(0,1) <= 0.09:\n",
        "        return 'tails'\n",
        "    else:\n",
        "        return 'heads'\n",
        "    \n",
        "def coinGameB2():\n",
        "    if random.random() <= 0.74:\n",
        "        return 'tails'\n",
        "    else:\n",
        "        return 'heads'"
      ]
    },
    {
      "cell_type": "markdown",
      "metadata": {
        "id": "SVCrKanlX6lc"
      },
      "source": [
        "Test of game A:"
      ]
    },
    {
      "cell_type": "code",
      "execution_count": 16,
      "metadata": {
        "id": "B5_8KgxMX6lc",
        "outputId": "403a2f1e-075c-4f0a-f3b4-f25335a5ea9c"
      },
      "outputs": [
        {
          "name": "stdout",
          "output_type": "stream",
          "text": [
            "After 10000 flips, we have $ 560 of capital\n"
          ]
        }
      ],
      "source": [
        "capital = 1000\n",
        "nb_flips = 10000\n",
        "\n",
        "for i in range(nb_flips):\n",
        "    coin = coinGameA()\n",
        "    if coin == 'tails':\n",
        "        capital += 1 # we earn $1 if we get tails\n",
        "    else:\n",
        "        capital -= 1 # we lose $1 otherwise\n",
        "\n",
        "print(\"After\", nb_flips, \"flips, we have $\", capital,  \"of capital\")"
      ]
    },
    {
      "cell_type": "markdown",
      "metadata": {
        "id": "Q1toYX6OX6le"
      },
      "source": [
        "You can run the code several times to be sure (or even increase the number of flips), but you will always end up with a smaller final capital than the initial one: **game A clearly loses**!\n",
        "\n",
        "Now let's look at Game B:\n"
      ]
    },
    {
      "cell_type": "code",
      "execution_count": 18,
      "metadata": {
        "id": "s9TOTd0dX6lf",
        "outputId": "c2d674de-a720-4778-e2b2-2f8e1264d973"
      },
      "outputs": [
        {
          "name": "stdout",
          "output_type": "stream",
          "text": [
            "After 10000 flips, we have $ 776 of capital\n"
          ]
        }
      ],
      "source": [
        "capital = 1000\n",
        "nb_flips = 10000\n",
        "\n",
        "for i in range(nb_flips):\n",
        "    if capital % 3 == 0: # we check if the capital is a multiple of three or not\n",
        "        coin = coinGameB1()\n",
        "    else:\n",
        "        coin = coinGameB2()\n",
        "\n",
        "    if coin == 'tails':\n",
        "        capital += 1 # we earn one dollar if we get tails\n",
        "    else:\n",
        "        capital -= 1 # we lose $1 otherwise\n",
        "\n",
        "print(\"After\", nb_flips, \"flips, we have $\", capital, \"of capital\")"
      ]
    },
    {
      "cell_type": "markdown",
      "metadata": {
        "id": "pK0efRv-X6lg"
      },
      "source": [
        "Again, you can run the code several times to be sure (or even increase the number of flips), but you will always end up with a smaller final capital than the initial one: **game B also loses**!\n",
        "\n",
        "So the correct answer was: **both games are losers**!\n",
        "\n"
      ]
    }
  ],
  "metadata": {
    "colab": {
      "name": "P4C3_1.ipynb",
      "provenance": []
    },
    "kernelspec": {
      "display_name": "Python 3.9.7 ('base')",
      "language": "python",
      "name": "python3"
    },
    "language_info": {
      "codemirror_mode": {
        "name": "ipython",
        "version": 3
      },
      "file_extension": ".py",
      "mimetype": "text/x-python",
      "name": "python",
      "nbconvert_exporter": "python",
      "pygments_lexer": "ipython3",
      "version": "3.9.7"
    },
    "vscode": {
      "interpreter": {
        "hash": "0d5b2adc70bf0954b7415f3bc8543415bd6d361c5e0c2c03226caf4972d8a62d"
      }
    }
  },
  "nbformat": 4,
  "nbformat_minor": 0
}

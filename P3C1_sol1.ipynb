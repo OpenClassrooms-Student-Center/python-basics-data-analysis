{
  "cells": [
    {
      "cell_type": "markdown",
      "metadata": {
        "id": "PMvpnaM88Fm5"
      },
      "source": [
        "![openclassrooms](https://s3.eu-west-1.amazonaws.com/course.oc-static.com/courses/6204541/1+HnqdJ-5ofxiPP9HIxdNdpw.jpeg)\n",
        "\n",
        "# Learn Python Basics for Data Analysis\n",
        "\n",
        "## Create Arrays to Store Your Variables\n",
        "\n",
        "<br><br>\n",
        "\n",
        "**One List to Govern Them All**\n",
        "\n",
        "Declare a `colors` list containing five items: `red`, `yellow`, `orange`, `green`, and `blue`.\n"
      ]
    },
    {
      "cell_type": "code",
      "execution_count": 1,
      "metadata": {
        "id": "Uy4zkRAu8Fm7"
      },
      "outputs": [],
      "source": [
        "colors = ['red', 'yellow', 'orange', 'green', 'blue']"
      ]
    },
    {
      "cell_type": "markdown",
      "metadata": {
        "id": "3TChJxzG8Fm8"
      },
      "source": [
        "Replace the color `green` with `emerald`:"
      ]
    },
    {
      "cell_type": "code",
      "execution_count": 2,
      "metadata": {
        "id": "VxinfM3g8Fm8"
      },
      "outputs": [],
      "source": [
        "colors[3] = 'emerald'"
      ]
    },
    {
      "cell_type": "markdown",
      "metadata": {
        "id": "URLrkniC8Fm9"
      },
      "source": [
        "Print the contents of the list:"
      ]
    },
    {
      "cell_type": "code",
      "execution_count": 3,
      "metadata": {
        "id": "L6hCJ2z18Fm9",
        "outputId": "eee0cbbe-3cbb-4280-d4ba-4a077531db1d"
      },
      "outputs": [
        {
          "name": "stdout",
          "output_type": "stream",
          "text": [
            "red\n",
            "yellow\n",
            "orange\n",
            "emerald\n",
            "blue\n"
          ]
        }
      ],
      "source": [
        "for color in colors :\n",
        "    print(color)"
      ]
    }
  ],
  "metadata": {
    "colab": {
      "name": "P3C1 sol1.ipynb",
      "provenance": []
    },
    "kernelspec": {
      "display_name": "Python 3.9.7 ('base')",
      "language": "python",
      "name": "python3"
    },
    "language_info": {
      "codemirror_mode": {
        "name": "ipython",
        "version": 3
      },
      "file_extension": ".py",
      "mimetype": "text/x-python",
      "name": "python",
      "nbconvert_exporter": "python",
      "pygments_lexer": "ipython3",
      "version": "3.9.7"
    },
    "vscode": {
      "interpreter": {
        "hash": "0d5b2adc70bf0954b7415f3bc8543415bd6d361c5e0c2c03226caf4972d8a62d"
      }
    }
  },
  "nbformat": 4,
  "nbformat_minor": 0
}

{
  "cells": [
    {
      "cell_type": "markdown",
      "metadata": {
        "id": "YEBkHPqG5EdC"
      },
      "source": [
        "![openclassrooms](https://s3.eu-west-1.amazonaws.com/course.oc-static.com/courses/6204541/1+HnqdJ-5ofxiPP9HIxdNdpw.jpeg)\n",
        "\n",
        "# Learn Python Basics for Data Analysis\n",
        "\n",
        "## Declare a Variable\n",
        "\n",
        "As a reminder: the following code had to be reworked by modifying the line `savings = savings + 500` below the `# TO DO comment`, via the simplified operator `+=`\n"
      ]
    },
    {
      "cell_type": "code",
      "execution_count": 1,
      "metadata": {
        "id": "22JryhSf5EdG",
        "outputId": "2d404b78-20d7-4dba-a975-41bc75db304b"
      },
      "outputs": [
        {
          "name": "stdout",
          "output_type": "stream",
          "text": [
            "Your savings are:  3500\n"
          ]
        }
      ],
      "source": [
        "account = 200\n",
        "savings = 3000\n",
        "    \n",
        "# TO DO: modify the following line with the simplified operator +=\n",
        "savings = savings + 500\n",
        "\n",
        "print(\"Your savings are: \", savings)"
      ]
    },
    {
      "cell_type": "markdown",
      "metadata": {
        "id": "QiJzNUKO5EdI"
      },
      "source": [
        "The solution is therefore:"
      ]
    },
    {
      "cell_type": "code",
      "execution_count": 2,
      "metadata": {
        "id": "n9RKRfYt5EdJ",
        "outputId": "35f6551f-b778-4955-e6ed-d0c844ead2ed"
      },
      "outputs": [
        {
          "name": "stdout",
          "output_type": "stream",
          "text": [
            "Your savings are:  3500\n"
          ]
        }
      ],
      "source": [
        "account = 200\n",
        "savings = 3000\n",
        "    \n",
        "savings += 500\n",
        "\n",
        "print(\"Your savings are: \", savings)"
      ]
    },
    {
      "cell_type": "code",
      "execution_count": null,
      "metadata": {
        "id": "UXZIxXsN5EdJ"
      },
      "outputs": [],
      "source": []
    }
  ],
  "metadata": {
    "colab": {
      "name": "P2C1 sol2.ipynb",
      "provenance": []
    },
    "kernelspec": {
      "display_name": "Python 3.9.7 ('base')",
      "language": "python",
      "name": "python3"
    },
    "language_info": {
      "codemirror_mode": {
        "name": "ipython",
        "version": 3
      },
      "file_extension": ".py",
      "mimetype": "text/x-python",
      "name": "python",
      "nbconvert_exporter": "python",
      "pygments_lexer": "ipython3",
      "version": "3.9.7"
    },
    "vscode": {
      "interpreter": {
        "hash": "0d5b2adc70bf0954b7415f3bc8543415bd6d361c5e0c2c03226caf4972d8a62d"
      }
    }
  },
  "nbformat": 4,
  "nbformat_minor": 0
}
